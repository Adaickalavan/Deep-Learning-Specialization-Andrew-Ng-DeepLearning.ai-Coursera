{
 "cells": [
  {
   "cell_type": "markdown",
   "metadata": {},
   "source": [
    "# Neural Machine Translation\n",
    "\n",
    "Welcome to your first programming assignment for this week! \n",
    "\n",
    "You will build a Neural Machine Translation (NMT) model to translate human readable dates (\"25th of June, 2009\") into machine readable dates (\"2009-06-25\"). You will do this using an attention model, one of the most sophisticated sequence to sequence models. \n",
    "\n",
    "This notebook was produced together with NVIDIA's Deep Learning Institute. \n",
    "\n",
    "Let's load all the packages you will need for this assignment."
   ]
  },
  {
   "cell_type": "code",
   "execution_count": 1,
   "metadata": {},
   "outputs": [
    {
     "name": "stderr",
     "output_type": "stream",
     "text": [
      "Using TensorFlow backend.\n"
     ]
    }
   ],
   "source": [
    "from keras.layers import Bidirectional, Concatenate, Permute, Dot, Input, LSTM, Multiply\n",
    "from keras.layers import RepeatVector, Dense, Activation, Lambda\n",
    "from keras.optimizers import Adam\n",
    "from keras.utils import to_categorical\n",
    "from keras.models import load_model, Model\n",
    "import keras.backend as K\n",
    "import numpy as np\n",
    "\n",
    "from faker import Faker\n",
    "import random\n",
    "from tqdm import tqdm\n",
    "from babel.dates import format_date\n",
    "from nmt_utils import *\n",
    "import matplotlib.pyplot as plt\n",
    "%matplotlib inline"
   ]
  },
  {
   "cell_type": "markdown",
   "metadata": {},
   "source": [
    "## 1 - Translating human readable dates into machine readable dates\n",
    "\n",
    "The model you will build here could be used to translate from one language to another, such as translating from English to Hindi. However, language translation requires massive datasets and usually takes days of training on GPUs. To give you a place to experiment with these models even without using massive datasets, we will instead use a simpler \"date translation\" task. \n",
    "\n",
    "The network will input a date written in a variety of possible formats (*e.g. \"the 29th of August 1958\", \"03/30/1968\", \"24 JUNE 1987\"*) and translate them into standardized, machine readable dates (*e.g. \"1958-08-29\", \"1968-03-30\", \"1987-06-24\"*). We will have the network learn to output dates in the common machine-readable format YYYY-MM-DD. \n",
    "\n",
    "\n",
    "\n",
    "<!-- \n",
    "Take a look at [nmt_utils.py](./nmt_utils.py) to see all the formatting. Count and figure out how the formats work, you will need this knowledge later. !--> "
   ]
  },
  {
   "cell_type": "markdown",
   "metadata": {},
   "source": [
    "### 1.1 - Dataset\n",
    "\n",
    "We will train the model on a dataset of 10000 human readable dates and their equivalent, standardized, machine readable dates. Let's run the following cells to load the dataset and print some examples. "
   ]
  },
  {
   "cell_type": "code",
   "execution_count": 2,
   "metadata": {},
   "outputs": [
    {
     "name": "stderr",
     "output_type": "stream",
     "text": [
      "100%|██████████| 10000/10000 [00:01<00:00, 5548.57it/s]\n"
     ]
    }
   ],
   "source": [
    "m = 10000\n",
    "dataset, human_vocab, machine_vocab, inv_machine_vocab = load_dataset(m)"
   ]
  },
  {
   "cell_type": "code",
   "execution_count": 3,
   "metadata": {},
   "outputs": [
    {
     "data": {
      "text/plain": [
       "[('9 may 1998', '1998-05-09'),\n",
       " ('10.09.70', '1970-09-10'),\n",
       " ('4/28/90', '1990-04-28'),\n",
       " ('thursday january 26 1995', '1995-01-26'),\n",
       " ('monday march 7 1983', '1983-03-07'),\n",
       " ('sunday may 22 1988', '1988-05-22'),\n",
       " ('tuesday july 8 2008', '2008-07-08'),\n",
       " ('08 sep 1999', '1999-09-08'),\n",
       " ('1 jan 1981', '1981-01-01'),\n",
       " ('monday may 22 1995', '1995-05-22')]"
      ]
     },
     "execution_count": 3,
     "metadata": {},
     "output_type": "execute_result"
    }
   ],
   "source": [
    "dataset[:10]"
   ]
  },
  {
   "cell_type": "markdown",
   "metadata": {},
   "source": [
    "You've loaded:\n",
    "- `dataset`: a list of tuples of (human readable date, machine readable date)\n",
    "- `human_vocab`: a python dictionary mapping all characters used in the human readable dates to an integer-valued index \n",
    "- `machine_vocab`: a python dictionary mapping all characters used in machine readable dates to an integer-valued index. These indices are not necessarily consistent with `human_vocab`. \n",
    "- `inv_machine_vocab`: the inverse dictionary of `machine_vocab`, mapping from indices back to characters. \n",
    "\n",
    "Let's preprocess the data and map the raw text data into the index values. We will also use Tx=30 (which we assume is the maximum length of the human readable date; if we get a longer input, we would have to truncate it) and Ty=10 (since \"YYYY-MM-DD\" is 10 characters long). "
   ]
  },
  {
   "cell_type": "code",
   "execution_count": 4,
   "metadata": {},
   "outputs": [
    {
     "name": "stdout",
     "output_type": "stream",
     "text": [
      "X.shape: (10000, 30)\n",
      "Y.shape: (10000, 10)\n",
      "Xoh.shape: (10000, 30, 37)\n",
      "Yoh.shape: (10000, 10, 11)\n"
     ]
    }
   ],
   "source": [
    "Tx = 30\n",
    "Ty = 10\n",
    "X, Y, Xoh, Yoh = preprocess_data(dataset, human_vocab, machine_vocab, Tx, Ty)\n",
    "\n",
    "print(\"X.shape:\", X.shape)\n",
    "print(\"Y.shape:\", Y.shape)\n",
    "print(\"Xoh.shape:\", Xoh.shape)\n",
    "print(\"Yoh.shape:\", Yoh.shape)"
   ]
  },
  {
   "cell_type": "markdown",
   "metadata": {},
   "source": [
    "You now have:\n",
    "- `X`: a processed version of the human readable dates in the training set, where each character is replaced by an index mapped to the character via `human_vocab`. Each date is further padded to $T_x$ values with a special character (< pad >). `X.shape = (m, Tx)`\n",
    "- `Y`: a processed version of the machine readable dates in the training set, where each character is replaced by the index it is mapped to in `machine_vocab`. You should have `Y.shape = (m, Ty)`. \n",
    "- `Xoh`: one-hot version of `X`, the \"1\" entry's index is mapped to the character thanks to `human_vocab`. `Xoh.shape = (m, Tx, len(human_vocab))`\n",
    "- `Yoh`: one-hot version of `Y`, the \"1\" entry's index is mapped to the character thanks to `machine_vocab`. `Yoh.shape = (m, Tx, len(machine_vocab))`. Here, `len(machine_vocab) = 11` since there are 11 characters ('-' as well as 0-9). \n"
   ]
  },
  {
   "cell_type": "markdown",
   "metadata": {},
   "source": [
    "Lets also look at some examples of preprocessed training examples. Feel free to play with `index` in the cell below to navigate the dataset and see how source/target dates are preprocessed. "
   ]
  },
  {
   "cell_type": "code",
   "execution_count": 5,
   "metadata": {},
   "outputs": [
    {
     "name": "stdout",
     "output_type": "stream",
     "text": [
      "Source date: 9 may 1998\n",
      "Target date: 1998-05-09\n",
      "\n",
      "Source after preprocessing (indices): [12  0 24 13 34  0  4 12 12 11 36 36 36 36 36 36 36 36 36 36 36 36 36 36 36\n",
      " 36 36 36 36 36]\n",
      "Target after preprocessing (indices): [ 2 10 10  9  0  1  6  0  1 10]\n",
      "\n",
      "Source after preprocessing (one-hot): [[ 0.  0.  0. ...,  0.  0.  0.]\n",
      " [ 1.  0.  0. ...,  0.  0.  0.]\n",
      " [ 0.  0.  0. ...,  0.  0.  0.]\n",
      " ..., \n",
      " [ 0.  0.  0. ...,  0.  0.  1.]\n",
      " [ 0.  0.  0. ...,  0.  0.  1.]\n",
      " [ 0.  0.  0. ...,  0.  0.  1.]]\n",
      "Target after preprocessing (one-hot): [[ 0.  0.  1.  0.  0.  0.  0.  0.  0.  0.  0.]\n",
      " [ 0.  0.  0.  0.  0.  0.  0.  0.  0.  0.  1.]\n",
      " [ 0.  0.  0.  0.  0.  0.  0.  0.  0.  0.  1.]\n",
      " [ 0.  0.  0.  0.  0.  0.  0.  0.  0.  1.  0.]\n",
      " [ 1.  0.  0.  0.  0.  0.  0.  0.  0.  0.  0.]\n",
      " [ 0.  1.  0.  0.  0.  0.  0.  0.  0.  0.  0.]\n",
      " [ 0.  0.  0.  0.  0.  0.  1.  0.  0.  0.  0.]\n",
      " [ 1.  0.  0.  0.  0.  0.  0.  0.  0.  0.  0.]\n",
      " [ 0.  1.  0.  0.  0.  0.  0.  0.  0.  0.  0.]\n",
      " [ 0.  0.  0.  0.  0.  0.  0.  0.  0.  0.  1.]]\n"
     ]
    }
   ],
   "source": [
    "index = 0\n",
    "print(\"Source date:\", dataset[index][0])\n",
    "print(\"Target date:\", dataset[index][1])\n",
    "print()\n",
    "print(\"Source after preprocessing (indices):\", X[index])\n",
    "print(\"Target after preprocessing (indices):\", Y[index])\n",
    "print()\n",
    "print(\"Source after preprocessing (one-hot):\", Xoh[index])\n",
    "print(\"Target after preprocessing (one-hot):\", Yoh[index])"
   ]
  },
  {
   "cell_type": "markdown",
   "metadata": {},
   "source": [
    "## 2 - Neural machine translation with attention\n",
    "\n",
    "If you had to translate a book's paragraph from French to English, you would not read the whole paragraph, then close the book and translate. Even during the translation process, you would read/re-read and focus on the parts of the French paragraph corresponding to the parts of the English you are writing down. \n",
    "\n",
    "The attention mechanism tells a Neural Machine Translation model where it should pay attention to at any step. \n",
    "\n",
    "\n",
    "### 2.1 - Attention mechanism\n",
    "\n",
    "In this part, you will implement the attention mechanism presented in the lecture videos. Here is a figure to remind you how the model works. The diagram on the left shows the attention model. The diagram on the right shows what one \"Attention\" step does to calculate the attention variables $\\alpha^{\\langle t, t' \\rangle}$, which are used to compute the context variable $context^{\\langle t \\rangle}$ for each timestep in the output ($t=1, \\ldots, T_y$). \n",
    "\n",
    "<table>\n",
    "<td> \n",
    "<img src=\"images/attn_model.png\" style=\"width:500;height:500px;\"> <br>\n",
    "</td> \n",
    "<td> \n",
    "<img src=\"images/attn_mechanism.png\" style=\"width:500;height:500px;\"> <br>\n",
    "</td> \n",
    "</table>\n",
    "<caption><center> **Figure 1**: Neural machine translation with attention</center></caption>\n"
   ]
  },
  {
   "cell_type": "markdown",
   "metadata": {},
   "source": [
    "\n",
    "Here are some properties of the model that you may notice: \n",
    "\n",
    "- There are two separate LSTMs in this model (see diagram on the left). Because the one at the bottom of the picture is a Bi-directional LSTM and comes *before* the attention mechanism, we will call it *pre-attention* Bi-LSTM. The LSTM at the top of the diagram comes *after* the attention mechanism, so we will call it the *post-attention* LSTM. The pre-attention Bi-LSTM goes through $T_x$ time steps; the post-attention LSTM goes through $T_y$ time steps. \n",
    "\n",
    "- The post-attention LSTM passes $s^{\\langle t \\rangle}, c^{\\langle t \\rangle}$ from one time step to the next. In the lecture videos, we were using only a basic RNN for the post-activation sequence model, so the state captured by the RNN output activations $s^{\\langle t\\rangle}$. But since we are using an LSTM here, the LSTM has both the output activation $s^{\\langle t\\rangle}$ and the hidden cell state $c^{\\langle t\\rangle}$. However, unlike previous text generation examples (such as Dinosaurus in week 1), in this model the post-activation LSTM at time $t$ does will not take the specific generated $y^{\\langle t-1 \\rangle}$ as input; it only takes $s^{\\langle t\\rangle}$ and $c^{\\langle t\\rangle}$ as input. We have designed the model this way, because (unlike language generation where adjacent characters are highly correlated) there isn't as strong a dependency between the previous character and the next character in a YYYY-MM-DD date. \n",
    "\n",
    "- We use $a^{\\langle t \\rangle} = [\\overrightarrow{a}^{\\langle t \\rangle}; \\overleftarrow{a}^{\\langle t \\rangle}]$ to represent the concatenation of the activations of both the forward-direction and backward-directions of the pre-attention Bi-LSTM. \n",
    "\n",
    "- The diagram on the right uses a `RepeatVector` node to copy $s^{\\langle t-1 \\rangle}$'s value $T_x$ times, and then `Concatenation` to concatenate $s^{\\langle t-1 \\rangle}$ and $a^{\\langle t \\rangle}$ to compute $e^{\\langle t, t'}$, which is then passed through a softmax to compute $\\alpha^{\\langle t, t' \\rangle}$. We'll explain how to use `RepeatVector` and `Concatenation` in Keras below. \n",
    "\n",
    "Lets implement this model. You will start by implementing two functions: `one_step_attention()` and `model()`.\n",
    "\n",
    "**1) `one_step_attention()`**: At step $t$, given all the hidden states of the Bi-LSTM ($[a^{<1>},a^{<2>}, ..., a^{<T_x>}]$) and the previous hidden state of the second LSTM ($s^{<t-1>}$), `one_step_attention()` will compute the attention weights ($[\\alpha^{<t,1>},\\alpha^{<t,2>}, ..., \\alpha^{<t,T_x>}]$) and output the context vector (see Figure  1 (right) for details):\n",
    "$$context^{<t>} = \\sum_{t' = 0}^{T_x} \\alpha^{<t,t'>}a^{<t'>}\\tag{1}$$ \n",
    "\n",
    "Note that we are denoting the attention in this notebook $context^{\\langle t \\rangle}$. In the lecture videos, the context was denoted $c^{\\langle t \\rangle}$, but here we are calling it $context^{\\langle t \\rangle}$ to avoid confusion with the (post-attention) LSTM's internal memory cell variable, which is sometimes also denoted $c^{\\langle t \\rangle}$. \n",
    "  \n",
    "**2) `model()`**: Implements the entire model. It first runs the input through a Bi-LSTM to get back $[a^{<1>},a^{<2>}, ..., a^{<T_x>}]$. Then, it calls `one_step_attention()` $T_y$ times (`for` loop). At each iteration of this loop, it gives the computed context vector $c^{<t>}$ to the second LSTM, and runs the output of the LSTM through a dense layer with softmax activation to generate a prediction $\\hat{y}^{<t>}$. \n",
    "\n",
    "\n",
    "\n",
    "**Exercise**: Implement `one_step_attention()`. The function `model()` will call the layers in `one_step_attention()` $T_y$ using a for-loop, and it is important that all $T_y$ copies have the same weights. I.e., it should not re-initiaiize the weights every time. In other words, all $T_y$ steps should have shared weights. Here's how you can implement layers with shareable weights in Keras:\n",
    "1. Define the layer objects (as global variables for examples).\n",
    "2. Call these objects when propagating the input.\n",
    "\n",
    "We have defined the layers you need as global variables. Please run the following cells to create them. Please check the Keras documentation to make sure you understand what these layers are: [RepeatVector()](https://keras.io/layers/core/#repeatvector), [Concatenate()](https://keras.io/layers/merge/#concatenate), [Dense()](https://keras.io/layers/core/#dense), [Activation()](https://keras.io/layers/core/#activation), [Dot()](https://keras.io/layers/merge/#dot)."
   ]
  },
  {
   "cell_type": "code",
   "execution_count": 6,
   "metadata": {
    "collapsed": true
   },
   "outputs": [],
   "source": [
    "# Defined shared layers as global variables\n",
    "repeator = RepeatVector(Tx)\n",
    "concatenator = Concatenate(axis=-1)\n",
    "densor1 = Dense(10, activation = \"tanh\")\n",
    "densor2 = Dense(1, activation = \"relu\")\n",
    "activator = Activation(softmax, name='attention_weights') # We are using a custom softmax(axis = 1) loaded in this notebook\n",
    "dotor = Dot(axes = 1)"
   ]
  },
  {
   "cell_type": "markdown",
   "metadata": {},
   "source": [
    "Now you can use these layers to implement `one_step_attention()`. In order to propagate a Keras tensor object X through one of these layers, use `layer(X)` (or `layer([X,Y])` if it requires multiple inputs.), e.g. `densor(X)` will propagate X through the `Dense(1)` layer defined above."
   ]
  },
  {
   "cell_type": "code",
   "execution_count": 7,
   "metadata": {
    "collapsed": true
   },
   "outputs": [],
   "source": [
    "# GRADED FUNCTION: one_step_attention\n",
    "\n",
    "def one_step_attention(a, s_prev):\n",
    "    \"\"\"\n",
    "    Performs one step of attention: Outputs a context vector computed as a dot product of the attention weights\n",
    "    \"alphas\" and the hidden states \"a\" of the Bi-LSTM.\n",
    "    \n",
    "    Arguments:\n",
    "    a -- hidden state output of the Bi-LSTM, numpy-array of shape (m, Tx, 2*n_a)\n",
    "    s_prev -- previous hidden state of the (post-attention) LSTM, numpy-array of shape (m, n_s)\n",
    "    \n",
    "    Returns:\n",
    "    context -- context vector, input of the next (post-attetion) LSTM cell\n",
    "    \"\"\"\n",
    "    \n",
    "    ### START CODE HERE ###\n",
    "    # Use repeator to repeat s_prev to be of shape (m, Tx, n_s) so that you can concatenate it with all hidden states \"a\" (≈ 1 line)\n",
    "    s_prev = repeator(s_prev)\n",
    "    # Use concatenator to concatenate a and s_prev on the last axis (≈ 1 line)\n",
    "    concat = concatenator([s_prev, a])\n",
    "    # Use densor1 to propagate concat through a small fully-connected neural network to compute the \"intermediate energies\" variable e. (≈1 lines)\n",
    "    e = densor1(concat)\n",
    "    # Use densor2 to propagate e through a small fully-connected neural network to compute the \"energies\" variable energies. (≈1 lines)\n",
    "    energies = densor2(e)\n",
    "    # Use \"activator\" on \"energies\" to compute the attention weights \"alphas\" (≈ 1 line)\n",
    "    alphas = activator(energies)\n",
    "    # Use dotor together with \"alphas\" and \"a\" to compute the context vector to be given to the next (post-attention) LSTM-cell (≈ 1 line)\n",
    "    context = dotor([alphas,a])\n",
    "    ### END CODE HERE ###\n",
    "    \n",
    "    return context"
   ]
  },
  {
   "cell_type": "markdown",
   "metadata": {},
   "source": [
    "You will be able to check the expected output of `one_step_attention()` after you've coded the `model()` function."
   ]
  },
  {
   "cell_type": "markdown",
   "metadata": {},
   "source": [
    "**Exercise**: Implement `model()` as explained in figure 2 and the text above. Again, we have defined global layers that will share weights to be used in `model()`."
   ]
  },
  {
   "cell_type": "code",
   "execution_count": 8,
   "metadata": {
    "collapsed": true
   },
   "outputs": [],
   "source": [
    "n_a = 32\n",
    "n_s = 64\n",
    "post_activation_LSTM_cell = LSTM(n_s, return_state = True)\n",
    "output_layer = Dense(len(machine_vocab), activation=softmax)"
   ]
  },
  {
   "cell_type": "markdown",
   "metadata": {},
   "source": [
    "Now you can use these layers $T_y$ times in a `for` loop to generate the outputs, and their parameters will not be reinitialized. You will have to carry out the following steps: \n",
    "\n",
    "1. Propagate the input into a [Bidirectional](https://keras.io/layers/wrappers/#bidirectional) [LSTM](https://keras.io/layers/recurrent/#lstm)\n",
    "2. Iterate for $t = 0, \\dots, T_y-1$: \n",
    "    1. Call `one_step_attention()` on $[\\alpha^{<t,1>},\\alpha^{<t,2>}, ..., \\alpha^{<t,T_x>}]$ and $s^{<t-1>}$ to get the context vector $context^{<t>}$.\n",
    "    2. Give $context^{<t>}$ to the post-attention LSTM cell. Remember pass in the previous hidden-state $s^{\\langle t-1\\rangle}$ and cell-states $c^{\\langle t-1\\rangle}$ of this LSTM using `initial_state= [previous hidden state, previous cell state]`. Get back the new hidden state $s^{<t>}$ and the new cell state $c^{<t>}$.\n",
    "    3. Apply a softmax layer to $s^{<t>}$, get the output. \n",
    "    4. Save the output by adding it to the list of outputs.\n",
    "\n",
    "3. Create your Keras model instance, it should have three inputs (\"inputs\", $s^{<0>}$ and $c^{<0>}$) and output the list of \"outputs\"."
   ]
  },
  {
   "cell_type": "code",
   "execution_count": 9,
   "metadata": {
    "collapsed": true
   },
   "outputs": [],
   "source": [
    "# GRADED FUNCTION: model\n",
    "\n",
    "def model(Tx, Ty, n_a, n_s, human_vocab_size, machine_vocab_size):\n",
    "    \"\"\"\n",
    "    Arguments:\n",
    "    Tx -- length of the input sequence\n",
    "    Ty -- length of the output sequence\n",
    "    n_a -- hidden state size of the Bi-LSTM\n",
    "    n_s -- hidden state size of the post-attention LSTM\n",
    "    human_vocab_size -- size of the python dictionary \"human_vocab\"\n",
    "    machine_vocab_size -- size of the python dictionary \"machine_vocab\"\n",
    "\n",
    "    Returns:\n",
    "    model -- Keras model instance\n",
    "    \"\"\"\n",
    "    \n",
    "    # Define the inputs of your model with a shape (Tx,)\n",
    "    # Define s0 and c0, initial hidden state for the decoder LSTM of shape (n_s,)\n",
    "    X = Input(shape=(Tx, human_vocab_size))\n",
    "    s0 = Input(shape=(n_s,), name='s0')\n",
    "    c0 = Input(shape=(n_s,), name='c0')\n",
    "    s = s0\n",
    "    c = c0\n",
    "    \n",
    "    # Initialize empty list of outputs\n",
    "    outputs = []\n",
    "    \n",
    "    ### START CODE HERE ###\n",
    "    \n",
    "    # Step 1: Define your pre-attention Bi-LSTM. Remember to use return_sequences=True. (≈ 1 line)\n",
    "    a = Bidirectional(LSTM(n_a, return_sequences=True))(X)\n",
    "    \n",
    "    # Step 2: Iterate for Ty steps\n",
    "    for t in range(Ty):\n",
    "    \n",
    "        # Step 2.A: Perform one step of the attention mechanism to get back the context vector at step t (≈ 1 line)\n",
    "        context = one_step_attention(a,s)\n",
    "        \n",
    "        # Step 2.B: Apply the post-attention LSTM cell to the \"context\" vector.\n",
    "        # Don't forget to pass: initial_state = [hidden state, cell state] (≈ 1 line)\n",
    "        s, _, c = post_activation_LSTM_cell(context, initial_state=[s,c])\n",
    "        \n",
    "        # Step 2.C: Apply Dense layer to the hidden state output of the post-attention LSTM (≈ 1 line)\n",
    "        out = output_layer(s)\n",
    "        \n",
    "        # Step 2.D: Append \"out\" to the \"outputs\" list (≈ 1 line)\n",
    "        outputs.append(out)\n",
    "    \n",
    "    # Step 3: Create model instance taking three inputs and returning the list of outputs. (≈ 1 line)\n",
    "    model = Model(inputs=[X,s0,c0],outputs=outputs)\n",
    "    \n",
    "    ### END CODE HERE ###\n",
    "    \n",
    "    return model"
   ]
  },
  {
   "cell_type": "markdown",
   "metadata": {},
   "source": [
    "Run the following cell to create your model."
   ]
  },
  {
   "cell_type": "code",
   "execution_count": 10,
   "metadata": {},
   "outputs": [],
   "source": [
    "model = model(Tx, Ty, n_a, n_s, len(human_vocab), len(machine_vocab))"
   ]
  },
  {
   "cell_type": "markdown",
   "metadata": {},
   "source": [
    "Let's get a summary of the model to check if it matches the expected output."
   ]
  },
  {
   "cell_type": "code",
   "execution_count": 11,
   "metadata": {},
   "outputs": [
    {
     "name": "stdout",
     "output_type": "stream",
     "text": [
      "____________________________________________________________________________________________________\n",
      "Layer (type)                     Output Shape          Param #     Connected to                     \n",
      "====================================================================================================\n",
      "s0 (InputLayer)                  (None, 64)            0                                            \n",
      "____________________________________________________________________________________________________\n",
      "input_1 (InputLayer)             (None, 30, 37)        0                                            \n",
      "____________________________________________________________________________________________________\n",
      "repeat_vector_1 (RepeatVector)   (None, 30, 64)        0           s0[0][0]                         \n",
      "                                                                   lstm_1[0][0]                     \n",
      "                                                                   lstm_1[1][0]                     \n",
      "                                                                   lstm_1[2][0]                     \n",
      "                                                                   lstm_1[3][0]                     \n",
      "                                                                   lstm_1[4][0]                     \n",
      "                                                                   lstm_1[5][0]                     \n",
      "                                                                   lstm_1[6][0]                     \n",
      "                                                                   lstm_1[7][0]                     \n",
      "                                                                   lstm_1[8][0]                     \n",
      "____________________________________________________________________________________________________\n",
      "bidirectional_1 (Bidirectional)  (None, 30, 64)        17920       input_1[0][0]                    \n",
      "____________________________________________________________________________________________________\n",
      "concatenate_1 (Concatenate)      (None, 30, 128)       0           repeat_vector_1[0][0]            \n",
      "                                                                   bidirectional_1[0][0]            \n",
      "                                                                   repeat_vector_1[1][0]            \n",
      "                                                                   bidirectional_1[0][0]            \n",
      "                                                                   repeat_vector_1[2][0]            \n",
      "                                                                   bidirectional_1[0][0]            \n",
      "                                                                   repeat_vector_1[3][0]            \n",
      "                                                                   bidirectional_1[0][0]            \n",
      "                                                                   repeat_vector_1[4][0]            \n",
      "                                                                   bidirectional_1[0][0]            \n",
      "                                                                   repeat_vector_1[5][0]            \n",
      "                                                                   bidirectional_1[0][0]            \n",
      "                                                                   repeat_vector_1[6][0]            \n",
      "                                                                   bidirectional_1[0][0]            \n",
      "                                                                   repeat_vector_1[7][0]            \n",
      "                                                                   bidirectional_1[0][0]            \n",
      "                                                                   repeat_vector_1[8][0]            \n",
      "                                                                   bidirectional_1[0][0]            \n",
      "                                                                   repeat_vector_1[9][0]            \n",
      "                                                                   bidirectional_1[0][0]            \n",
      "____________________________________________________________________________________________________\n",
      "dense_1 (Dense)                  (None, 30, 10)        1290        concatenate_1[0][0]              \n",
      "                                                                   concatenate_1[1][0]              \n",
      "                                                                   concatenate_1[2][0]              \n",
      "                                                                   concatenate_1[3][0]              \n",
      "                                                                   concatenate_1[4][0]              \n",
      "                                                                   concatenate_1[5][0]              \n",
      "                                                                   concatenate_1[6][0]              \n",
      "                                                                   concatenate_1[7][0]              \n",
      "                                                                   concatenate_1[8][0]              \n",
      "                                                                   concatenate_1[9][0]              \n",
      "____________________________________________________________________________________________________\n",
      "dense_2 (Dense)                  (None, 30, 1)         11          dense_1[0][0]                    \n",
      "                                                                   dense_1[1][0]                    \n",
      "                                                                   dense_1[2][0]                    \n",
      "                                                                   dense_1[3][0]                    \n",
      "                                                                   dense_1[4][0]                    \n",
      "                                                                   dense_1[5][0]                    \n",
      "                                                                   dense_1[6][0]                    \n",
      "                                                                   dense_1[7][0]                    \n",
      "                                                                   dense_1[8][0]                    \n",
      "                                                                   dense_1[9][0]                    \n",
      "____________________________________________________________________________________________________\n",
      "attention_weights (Activation)   (None, 30, 1)         0           dense_2[0][0]                    \n",
      "                                                                   dense_2[1][0]                    \n",
      "                                                                   dense_2[2][0]                    \n",
      "                                                                   dense_2[3][0]                    \n",
      "                                                                   dense_2[4][0]                    \n",
      "                                                                   dense_2[5][0]                    \n",
      "                                                                   dense_2[6][0]                    \n",
      "                                                                   dense_2[7][0]                    \n",
      "                                                                   dense_2[8][0]                    \n",
      "                                                                   dense_2[9][0]                    \n",
      "____________________________________________________________________________________________________\n",
      "dot_1 (Dot)                      (None, 1, 64)         0           attention_weights[0][0]          \n",
      "                                                                   bidirectional_1[0][0]            \n",
      "                                                                   attention_weights[1][0]          \n",
      "                                                                   bidirectional_1[0][0]            \n",
      "                                                                   attention_weights[2][0]          \n",
      "                                                                   bidirectional_1[0][0]            \n",
      "                                                                   attention_weights[3][0]          \n",
      "                                                                   bidirectional_1[0][0]            \n",
      "                                                                   attention_weights[4][0]          \n",
      "                                                                   bidirectional_1[0][0]            \n",
      "                                                                   attention_weights[5][0]          \n",
      "                                                                   bidirectional_1[0][0]            \n",
      "                                                                   attention_weights[6][0]          \n",
      "                                                                   bidirectional_1[0][0]            \n",
      "                                                                   attention_weights[7][0]          \n",
      "                                                                   bidirectional_1[0][0]            \n",
      "                                                                   attention_weights[8][0]          \n",
      "                                                                   bidirectional_1[0][0]            \n",
      "                                                                   attention_weights[9][0]          \n",
      "                                                                   bidirectional_1[0][0]            \n",
      "____________________________________________________________________________________________________\n",
      "c0 (InputLayer)                  (None, 64)            0                                            \n",
      "____________________________________________________________________________________________________\n",
      "lstm_1 (LSTM)                    [(None, 64), (None, 6 33024       dot_1[0][0]                      \n",
      "                                                                   s0[0][0]                         \n",
      "                                                                   c0[0][0]                         \n",
      "                                                                   dot_1[1][0]                      \n",
      "                                                                   lstm_1[0][0]                     \n",
      "                                                                   lstm_1[0][2]                     \n",
      "                                                                   dot_1[2][0]                      \n",
      "                                                                   lstm_1[1][0]                     \n",
      "                                                                   lstm_1[1][2]                     \n",
      "                                                                   dot_1[3][0]                      \n",
      "                                                                   lstm_1[2][0]                     \n",
      "                                                                   lstm_1[2][2]                     \n",
      "                                                                   dot_1[4][0]                      \n",
      "                                                                   lstm_1[3][0]                     \n",
      "                                                                   lstm_1[3][2]                     \n",
      "                                                                   dot_1[5][0]                      \n",
      "                                                                   lstm_1[4][0]                     \n",
      "                                                                   lstm_1[4][2]                     \n",
      "                                                                   dot_1[6][0]                      \n",
      "                                                                   lstm_1[5][0]                     \n",
      "                                                                   lstm_1[5][2]                     \n",
      "                                                                   dot_1[7][0]                      \n",
      "                                                                   lstm_1[6][0]                     \n",
      "                                                                   lstm_1[6][2]                     \n",
      "                                                                   dot_1[8][0]                      \n",
      "                                                                   lstm_1[7][0]                     \n",
      "                                                                   lstm_1[7][2]                     \n",
      "                                                                   dot_1[9][0]                      \n",
      "                                                                   lstm_1[8][0]                     \n",
      "                                                                   lstm_1[8][2]                     \n",
      "____________________________________________________________________________________________________\n",
      "dense_3 (Dense)                  (None, 11)            715         lstm_1[0][0]                     \n",
      "                                                                   lstm_1[1][0]                     \n",
      "                                                                   lstm_1[2][0]                     \n",
      "                                                                   lstm_1[3][0]                     \n",
      "                                                                   lstm_1[4][0]                     \n",
      "                                                                   lstm_1[5][0]                     \n",
      "                                                                   lstm_1[6][0]                     \n",
      "                                                                   lstm_1[7][0]                     \n",
      "                                                                   lstm_1[8][0]                     \n",
      "                                                                   lstm_1[9][0]                     \n",
      "====================================================================================================\n",
      "Total params: 52,960\n",
      "Trainable params: 52,960\n",
      "Non-trainable params: 0\n",
      "____________________________________________________________________________________________________\n"
     ]
    }
   ],
   "source": [
    "model.summary()"
   ]
  },
  {
   "cell_type": "markdown",
   "metadata": {},
   "source": [
    "**Expected Output**:\n",
    "\n",
    "Here is the summary you should see\n",
    "<table>\n",
    "    <tr>\n",
    "        <td>\n",
    "            **Total params:**\n",
    "        </td>\n",
    "        <td>\n",
    "         185,484\n",
    "        </td>\n",
    "    </tr>\n",
    "        <tr>\n",
    "        <td>\n",
    "            **Trainable params:**\n",
    "        </td>\n",
    "        <td>\n",
    "         185,484\n",
    "        </td>\n",
    "    </tr>\n",
    "            <tr>\n",
    "        <td>\n",
    "            **Non-trainable params:**\n",
    "        </td>\n",
    "        <td>\n",
    "         0\n",
    "        </td>\n",
    "    </tr>\n",
    "                    <tr>\n",
    "        <td>\n",
    "            **bidirectional_1's output shape **\n",
    "        </td>\n",
    "        <td>\n",
    "         (None, 30, 128)  \n",
    "        </td>\n",
    "    </tr>\n",
    "    <tr>\n",
    "        <td>\n",
    "            **repeat_vector_1's output shape **\n",
    "        </td>\n",
    "        <td>\n",
    "         (None, 30, 128)  \n",
    "        </td>\n",
    "    </tr>\n",
    "                <tr>\n",
    "        <td>\n",
    "            **concatenate_1's output shape **\n",
    "        </td>\n",
    "        <td>\n",
    "         (None, 30, 256) \n",
    "        </td>\n",
    "    </tr>\n",
    "            <tr>\n",
    "        <td>\n",
    "            **attention_weights's output shape **\n",
    "        </td>\n",
    "        <td>\n",
    "         (None, 30, 1)  \n",
    "        </td>\n",
    "    </tr>\n",
    "        <tr>\n",
    "        <td>\n",
    "            **dot_1's output shape **\n",
    "        </td>\n",
    "        <td>\n",
    "         (None, 1, 128) \n",
    "        </td>\n",
    "    </tr>\n",
    "           <tr>\n",
    "        <td>\n",
    "            **dense_2's output shape **\n",
    "        </td>\n",
    "        <td>\n",
    "         (None, 11) \n",
    "        </td>\n",
    "    </tr>\n",
    "</table>\n"
   ]
  },
  {
   "cell_type": "markdown",
   "metadata": {},
   "source": [
    "As usual, after creating your model in Keras, you need to compile it and define what loss, optimizer and metrics your are want to use. Compile your model using `categorical_crossentropy` loss, a custom [Adam](https://keras.io/optimizers/#adam) [optimizer](https://keras.io/optimizers/#usage-of-optimizers) (`learning rate = 0.005`, $\\beta_1 = 0.9$, $\\beta_2 = 0.999$, `decay = 0.01`)  and `['accuracy']` metrics:"
   ]
  },
  {
   "cell_type": "code",
   "execution_count": 12,
   "metadata": {},
   "outputs": [],
   "source": [
    "### START CODE HERE ### (≈2 lines)\n",
    "opt = Adam(lr=0.005, beta_1=0.9, beta_2=0.999, decay=0.01)\n",
    "model.compile(loss='categorical_crossentropy', optimizer=opt, metrics=['accuracy'])\n",
    "### END CODE HERE ###"
   ]
  },
  {
   "cell_type": "markdown",
   "metadata": {},
   "source": [
    "The last step is to define all your inputs and outputs to fit the model:\n",
    "- You already have X of shape $(m = 10000, T_x = 30)$ containing the training examples.\n",
    "- You need to create `s0` and `c0` to initialize your `post_activation_LSTM_cell` with 0s.\n",
    "- Given the `model()` you coded, you need the \"outputs\" to be a list of 11 elements of shape (m, T_y). So that: `outputs[i][0], ..., outputs[i][Ty]` represent the true labels (characters) corresponding to the $i^{th}$ training example (`X[i]`). More generally, `outputs[i][j]` is the true label of the $j^{th}$ character in the $i^{th}$ training example."
   ]
  },
  {
   "cell_type": "code",
   "execution_count": 13,
   "metadata": {
    "collapsed": true
   },
   "outputs": [],
   "source": [
    "s0 = np.zeros((m, n_s))\n",
    "c0 = np.zeros((m, n_s))\n",
    "outputs = list(Yoh.swapaxes(0,1))"
   ]
  },
  {
   "cell_type": "markdown",
   "metadata": {},
   "source": [
    "Let's now fit the model and run it for one epoch."
   ]
  },
  {
   "cell_type": "code",
   "execution_count": 14,
   "metadata": {},
   "outputs": [
    {
     "name": "stdout",
     "output_type": "stream",
     "text": [
      "Epoch 1/50\n",
      "10000/10000 [==============================] - 48s - loss: 16.6666 - dense_3_loss_1: 1.2140 - dense_3_loss_2: 0.9614 - dense_3_loss_3: 1.7441 - dense_3_loss_4: 2.6910 - dense_3_loss_5: 0.7851 - dense_3_loss_6: 1.2471 - dense_3_loss_7: 2.7609 - dense_3_loss_8: 0.9727 - dense_3_loss_9: 1.7413 - dense_3_loss_10: 2.5490 - dense_3_acc_1: 0.5308 - dense_3_acc_2: 0.6843 - dense_3_acc_3: 0.3230 - dense_3_acc_4: 0.0745 - dense_3_acc_5: 0.9341 - dense_3_acc_6: 0.3782 - dense_3_acc_7: 0.0357 - dense_3_acc_8: 0.9199 - dense_3_acc_9: 0.2524 - dense_3_acc_10: 0.1074    \n",
      "Epoch 2/50\n",
      "10000/10000 [==============================] - 44s - loss: 8.7840 - dense_3_loss_1: 0.1837 - dense_3_loss_2: 0.1156 - dense_3_loss_3: 0.9452 - dense_3_loss_4: 2.1672 - dense_3_loss_5: 0.0323 - dense_3_loss_6: 0.2988 - dense_3_loss_7: 1.7291 - dense_3_loss_8: 0.0222 - dense_3_loss_9: 1.1405 - dense_3_loss_10: 2.1495 - dense_3_acc_1: 0.9661 - dense_3_acc_2: 0.9670 - dense_3_acc_3: 0.6134 - dense_3_acc_4: 0.2198 - dense_3_acc_5: 1.0000 - dense_3_acc_6: 0.8972 - dense_3_acc_7: 0.3774 - dense_3_acc_8: 1.0000 - dense_3_acc_9: 0.5046 - dense_3_acc_10: 0.2116    \n",
      "Epoch 3/50\n",
      "10000/10000 [==============================] - 45s - loss: 6.4171 - dense_3_loss_1: 0.0945 - dense_3_loss_2: 0.0726 - dense_3_loss_3: 0.6156 - dense_3_loss_4: 1.6392 - dense_3_loss_5: 0.0201 - dense_3_loss_6: 0.1593 - dense_3_loss_7: 1.1955 - dense_3_loss_8: 0.0132 - dense_3_loss_9: 0.8516 - dense_3_loss_10: 1.7556 - dense_3_acc_1: 0.9772 - dense_3_acc_2: 0.9766 - dense_3_acc_3: 0.7858 - dense_3_acc_4: 0.4598 - dense_3_acc_5: 1.0000 - dense_3_acc_6: 0.9572 - dense_3_acc_7: 0.6268 - dense_3_acc_8: 1.0000 - dense_3_acc_9: 0.6724 - dense_3_acc_10: 0.3734    \n",
      "Epoch 4/50\n",
      "10000/10000 [==============================] - 41s - loss: 4.2643 - dense_3_loss_1: 0.0707 - dense_3_loss_2: 0.0538 - dense_3_loss_3: 0.3738 - dense_3_loss_4: 0.9132 - dense_3_loss_5: 0.0150 - dense_3_loss_6: 0.1221 - dense_3_loss_7: 0.8252 - dense_3_loss_8: 0.0127 - dense_3_loss_9: 0.6936 - dense_3_loss_10: 1.1841 - dense_3_acc_1: 0.9803 - dense_3_acc_2: 0.9830 - dense_3_acc_3: 0.8823 - dense_3_acc_4: 0.7573 - dense_3_acc_5: 1.0000 - dense_3_acc_6: 0.9686 - dense_3_acc_7: 0.7782 - dense_3_acc_8: 0.9996 - dense_3_acc_9: 0.7493 - dense_3_acc_10: 0.6084    \n",
      "Epoch 5/50\n",
      "10000/10000 [==============================] - 39s - loss: 2.7638 - dense_3_loss_1: 0.0521 - dense_3_loss_2: 0.0358 - dense_3_loss_3: 0.2660 - dense_3_loss_4: 0.4903 - dense_3_loss_5: 0.0099 - dense_3_loss_6: 0.1086 - dense_3_loss_7: 0.6031 - dense_3_loss_8: 0.0105 - dense_3_loss_9: 0.5704 - dense_3_loss_10: 0.6171 - dense_3_acc_1: 0.9863 - dense_3_acc_2: 0.9899 - dense_3_acc_3: 0.9184 - dense_3_acc_4: 0.8996 - dense_3_acc_5: 1.0000 - dense_3_acc_6: 0.9728 - dense_3_acc_7: 0.8505 - dense_3_acc_8: 1.0000 - dense_3_acc_9: 0.7989 - dense_3_acc_10: 0.8257    \n",
      "Epoch 6/50\n",
      "10000/10000 [==============================] - 41s - loss: 1.9483 - dense_3_loss_1: 0.0359 - dense_3_loss_2: 0.0236 - dense_3_loss_3: 0.1914 - dense_3_loss_4: 0.3039 - dense_3_loss_5: 0.0073 - dense_3_loss_6: 0.0908 - dense_3_loss_7: 0.4600 - dense_3_loss_8: 0.0074 - dense_3_loss_9: 0.4674 - dense_3_loss_10: 0.3606 - dense_3_acc_1: 0.9921 - dense_3_acc_2: 0.9928 - dense_3_acc_3: 0.9491 - dense_3_acc_4: 0.9402 - dense_3_acc_5: 1.0000 - dense_3_acc_6: 0.9764 - dense_3_acc_7: 0.8891 - dense_3_acc_8: 1.0000 - dense_3_acc_9: 0.8385 - dense_3_acc_10: 0.9075    \n",
      "Epoch 7/50\n",
      "10000/10000 [==============================] - 40s - loss: 1.4944 - dense_3_loss_1: 0.0252 - dense_3_loss_2: 0.0162 - dense_3_loss_3: 0.1371 - dense_3_loss_4: 0.2206 - dense_3_loss_5: 0.0058 - dense_3_loss_6: 0.0770 - dense_3_loss_7: 0.3747 - dense_3_loss_8: 0.0060 - dense_3_loss_9: 0.3798 - dense_3_loss_10: 0.2519 - dense_3_acc_1: 0.9955 - dense_3_acc_2: 0.9968 - dense_3_acc_3: 0.9693 - dense_3_acc_4: 0.9668 - dense_3_acc_5: 1.0000 - dense_3_acc_6: 0.9798 - dense_3_acc_7: 0.9081 - dense_3_acc_8: 1.0000 - dense_3_acc_9: 0.8709 - dense_3_acc_10: 0.9415    \n",
      "Epoch 8/50\n",
      "10000/10000 [==============================] - 44s - loss: 1.1879 - dense_3_loss_1: 0.0189 - dense_3_loss_2: 0.0124 - dense_3_loss_3: 0.1045 - dense_3_loss_4: 0.1659 - dense_3_loss_5: 0.0049 - dense_3_loss_6: 0.0665 - dense_3_loss_7: 0.3214 - dense_3_loss_8: 0.0048 - dense_3_loss_9: 0.3085 - dense_3_loss_10: 0.1804 - dense_3_acc_1: 0.9967 - dense_3_acc_2: 0.9980 - dense_3_acc_3: 0.9819 - dense_3_acc_4: 0.9896 - dense_3_acc_5: 1.0000 - dense_3_acc_6: 0.9826 - dense_3_acc_7: 0.9181 - dense_3_acc_8: 1.0000 - dense_3_acc_9: 0.8982 - dense_3_acc_10: 0.9633    \n",
      "Epoch 9/50\n",
      "10000/10000 [==============================] - 48s - loss: 0.9728 - dense_3_loss_1: 0.0144 - dense_3_loss_2: 0.0099 - dense_3_loss_3: 0.0798 - dense_3_loss_4: 0.1304 - dense_3_loss_5: 0.0041 - dense_3_loss_6: 0.0598 - dense_3_loss_7: 0.2838 - dense_3_loss_8: 0.0042 - dense_3_loss_9: 0.2469 - dense_3_loss_10: 0.1395 - dense_3_acc_1: 0.9984 - dense_3_acc_2: 0.9986 - dense_3_acc_3: 0.9883 - dense_3_acc_4: 0.9973 - dense_3_acc_5: 1.0000 - dense_3_acc_6: 0.9844 - dense_3_acc_7: 0.9275 - dense_3_acc_8: 1.0000 - dense_3_acc_9: 0.9266 - dense_3_acc_10: 0.9723    \n",
      "Epoch 10/50\n",
      "10000/10000 [==============================] - 53s - loss: 0.8135 - dense_3_loss_1: 0.0121 - dense_3_loss_2: 0.0079 - dense_3_loss_3: 0.0635 - dense_3_loss_4: 0.1036 - dense_3_loss_5: 0.0035 - dense_3_loss_6: 0.0547 - dense_3_loss_7: 0.2550 - dense_3_loss_8: 0.0040 - dense_3_loss_9: 0.1982 - dense_3_loss_10: 0.1110 - dense_3_acc_1: 0.9986 - dense_3_acc_2: 0.9992 - dense_3_acc_3: 0.9912 - dense_3_acc_4: 0.9990 - dense_3_acc_5: 1.0000 - dense_3_acc_6: 0.9861 - dense_3_acc_7: 0.9322 - dense_3_acc_8: 0.9999 - dense_3_acc_9: 0.9449 - dense_3_acc_10: 0.9796    \n",
      "Epoch 11/50\n",
      "10000/10000 [==============================] - 44s - loss: 0.6825 - dense_3_loss_1: 0.0101 - dense_3_loss_2: 0.0067 - dense_3_loss_3: 0.0506 - dense_3_loss_4: 0.0830 - dense_3_loss_5: 0.0031 - dense_3_loss_6: 0.0504 - dense_3_loss_7: 0.2287 - dense_3_loss_8: 0.0037 - dense_3_loss_9: 0.1584 - dense_3_loss_10: 0.0878 - dense_3_acc_1: 0.9991 - dense_3_acc_2: 0.9996 - dense_3_acc_3: 0.9937 - dense_3_acc_4: 0.9996 - dense_3_acc_5: 1.0000 - dense_3_acc_6: 0.9865 - dense_3_acc_7: 0.9373 - dense_3_acc_8: 1.0000 - dense_3_acc_9: 0.9612 - dense_3_acc_10: 0.9853    \n",
      "Epoch 12/50\n",
      "10000/10000 [==============================] - 43s - loss: 0.5899 - dense_3_loss_1: 0.0087 - dense_3_loss_2: 0.0058 - dense_3_loss_3: 0.0419 - dense_3_loss_4: 0.0695 - dense_3_loss_5: 0.0027 - dense_3_loss_6: 0.0475 - dense_3_loss_7: 0.2065 - dense_3_loss_8: 0.0033 - dense_3_loss_9: 0.1315 - dense_3_loss_10: 0.0723 - dense_3_acc_1: 0.9994 - dense_3_acc_2: 0.9996 - dense_3_acc_3: 0.9943 - dense_3_acc_4: 0.9997 - dense_3_acc_5: 1.0000 - dense_3_acc_6: 0.9874 - dense_3_acc_7: 0.9426 - dense_3_acc_8: 1.0000 - dense_3_acc_9: 0.9700 - dense_3_acc_10: 0.9896    \n",
      "Epoch 13/50\n",
      "10000/10000 [==============================] - 40s - loss: 0.5126 - dense_3_loss_1: 0.0078 - dense_3_loss_2: 0.0052 - dense_3_loss_3: 0.0346 - dense_3_loss_4: 0.0588 - dense_3_loss_5: 0.0025 - dense_3_loss_6: 0.0441 - dense_3_loss_7: 0.1857 - dense_3_loss_8: 0.0034 - dense_3_loss_9: 0.1098 - dense_3_loss_10: 0.0607 - dense_3_acc_1: 0.9992 - dense_3_acc_2: 0.9995 - dense_3_acc_3: 0.9957 - dense_3_acc_4: 0.9998 - dense_3_acc_5: 1.0000 - dense_3_acc_6: 0.9877 - dense_3_acc_7: 0.9452 - dense_3_acc_8: 0.9999 - dense_3_acc_9: 0.9761 - dense_3_acc_10: 0.9926    \n",
      "Epoch 14/50\n",
      "10000/10000 [==============================] - 42s - loss: 0.4539 - dense_3_loss_1: 0.0069 - dense_3_loss_2: 0.0046 - dense_3_loss_3: 0.0291 - dense_3_loss_4: 0.0508 - dense_3_loss_5: 0.0022 - dense_3_loss_6: 0.0414 - dense_3_loss_7: 0.1682 - dense_3_loss_8: 0.0031 - dense_3_loss_9: 0.0946 - dense_3_loss_10: 0.0529 - dense_3_acc_1: 0.9996 - dense_3_acc_2: 0.9998 - dense_3_acc_3: 0.9972 - dense_3_acc_4: 0.9999 - dense_3_acc_5: 1.0000 - dense_3_acc_6: 0.9877 - dense_3_acc_7: 0.9529 - dense_3_acc_8: 0.9999 - dense_3_acc_9: 0.9803 - dense_3_acc_10: 0.9935    \n",
      "Epoch 15/50\n"
     ]
    },
    {
     "name": "stdout",
     "output_type": "stream",
     "text": [
      "10000/10000 [==============================] - 49s - loss: 0.4032 - dense_3_loss_1: 0.0063 - dense_3_loss_2: 0.0042 - dense_3_loss_3: 0.0255 - dense_3_loss_4: 0.0438 - dense_3_loss_5: 0.0021 - dense_3_loss_6: 0.0395 - dense_3_loss_7: 0.1525 - dense_3_loss_8: 0.0028 - dense_3_loss_9: 0.0814 - dense_3_loss_10: 0.0450 - dense_3_acc_1: 0.9994 - dense_3_acc_2: 0.9997 - dense_3_acc_3: 0.9972 - dense_3_acc_4: 0.9999 - dense_3_acc_5: 1.0000 - dense_3_acc_6: 0.9886 - dense_3_acc_7: 0.9564 - dense_3_acc_8: 0.9999 - dense_3_acc_9: 0.9840 - dense_3_acc_10: 0.9950    \n",
      "Epoch 16/50\n",
      "10000/10000 [==============================] - 57s - loss: 0.3636 - dense_3_loss_1: 0.0056 - dense_3_loss_2: 0.0038 - dense_3_loss_3: 0.0218 - dense_3_loss_4: 0.0394 - dense_3_loss_5: 0.0019 - dense_3_loss_6: 0.0375 - dense_3_loss_7: 0.1391 - dense_3_loss_8: 0.0027 - dense_3_loss_9: 0.0720 - dense_3_loss_10: 0.0398 - dense_3_acc_1: 0.9997 - dense_3_acc_2: 1.0000 - dense_3_acc_3: 0.9976 - dense_3_acc_4: 0.9999 - dense_3_acc_5: 1.0000 - dense_3_acc_6: 0.9889 - dense_3_acc_7: 0.9604 - dense_3_acc_8: 0.9999 - dense_3_acc_9: 0.9867 - dense_3_acc_10: 0.9955    \n",
      "Epoch 17/50\n",
      "10000/10000 [==============================] - 55s - loss: 0.3284 - dense_3_loss_1: 0.0051 - dense_3_loss_2: 0.0035 - dense_3_loss_3: 0.0190 - dense_3_loss_4: 0.0352 - dense_3_loss_5: 0.0018 - dense_3_loss_6: 0.0359 - dense_3_loss_7: 0.1269 - dense_3_loss_8: 0.0026 - dense_3_loss_9: 0.0631 - dense_3_loss_10: 0.0353 - dense_3_acc_1: 0.9997 - dense_3_acc_2: 0.9999 - dense_3_acc_3: 0.9981 - dense_3_acc_4: 0.9998 - dense_3_acc_5: 1.0000 - dense_3_acc_6: 0.9890 - dense_3_acc_7: 0.9648 - dense_3_acc_8: 0.9999 - dense_3_acc_9: 0.9896 - dense_3_acc_10: 0.9963    \n",
      "Epoch 18/50\n",
      "10000/10000 [==============================] - 58s - loss: 0.2992 - dense_3_loss_1: 0.0046 - dense_3_loss_2: 0.0033 - dense_3_loss_3: 0.0168 - dense_3_loss_4: 0.0315 - dense_3_loss_5: 0.0017 - dense_3_loss_6: 0.0347 - dense_3_loss_7: 0.1165 - dense_3_loss_8: 0.0025 - dense_3_loss_9: 0.0560 - dense_3_loss_10: 0.0316 - dense_3_acc_1: 0.9998 - dense_3_acc_2: 1.0000 - dense_3_acc_3: 0.9983 - dense_3_acc_4: 1.0000 - dense_3_acc_5: 1.0000 - dense_3_acc_6: 0.9891 - dense_3_acc_7: 0.9683 - dense_3_acc_8: 0.9999 - dense_3_acc_9: 0.9907 - dense_3_acc_10: 0.9968    \n",
      "Epoch 19/50\n",
      "10000/10000 [==============================] - 57s - loss: 0.2739 - dense_3_loss_1: 0.0043 - dense_3_loss_2: 0.0030 - dense_3_loss_3: 0.0149 - dense_3_loss_4: 0.0288 - dense_3_loss_5: 0.0016 - dense_3_loss_6: 0.0330 - dense_3_loss_7: 0.1073 - dense_3_loss_8: 0.0023 - dense_3_loss_9: 0.0504 - dense_3_loss_10: 0.0284 - dense_3_acc_1: 0.9998 - dense_3_acc_2: 1.0000 - dense_3_acc_3: 0.9987 - dense_3_acc_4: 1.0000 - dense_3_acc_5: 1.0000 - dense_3_acc_6: 0.9902 - dense_3_acc_7: 0.9717 - dense_3_acc_8: 0.9999 - dense_3_acc_9: 0.9919 - dense_3_acc_10: 0.9972    \n",
      "Epoch 20/50\n",
      "10000/10000 [==============================] - 51s - loss: 0.2526 - dense_3_loss_1: 0.0039 - dense_3_loss_2: 0.0027 - dense_3_loss_3: 0.0134 - dense_3_loss_4: 0.0261 - dense_3_loss_5: 0.0015 - dense_3_loss_6: 0.0319 - dense_3_loss_7: 0.0988 - dense_3_loss_8: 0.0021 - dense_3_loss_9: 0.0461 - dense_3_loss_10: 0.0263 - dense_3_acc_1: 0.9999 - dense_3_acc_2: 1.0000 - dense_3_acc_3: 0.9989 - dense_3_acc_4: 1.0000 - dense_3_acc_5: 1.0000 - dense_3_acc_6: 0.9901 - dense_3_acc_7: 0.9738 - dense_3_acc_8: 1.0000 - dense_3_acc_9: 0.9925 - dense_3_acc_10: 0.9979    \n",
      "Epoch 21/50\n",
      "10000/10000 [==============================] - 56s - loss: 0.2348 - dense_3_loss_1: 0.0037 - dense_3_loss_2: 0.0026 - dense_3_loss_3: 0.0122 - dense_3_loss_4: 0.0240 - dense_3_loss_5: 0.0014 - dense_3_loss_6: 0.0301 - dense_3_loss_7: 0.0922 - dense_3_loss_8: 0.0021 - dense_3_loss_9: 0.0427 - dense_3_loss_10: 0.0237 - dense_3_acc_1: 0.9999 - dense_3_acc_2: 0.9999 - dense_3_acc_3: 0.9990 - dense_3_acc_4: 1.0000 - dense_3_acc_5: 1.0000 - dense_3_acc_6: 0.9899 - dense_3_acc_7: 0.9773 - dense_3_acc_8: 0.9999 - dense_3_acc_9: 0.9937 - dense_3_acc_10: 0.9981    \n",
      "Epoch 22/50\n",
      "10000/10000 [==============================] - 57s - loss: 0.2155 - dense_3_loss_1: 0.0034 - dense_3_loss_2: 0.0024 - dense_3_loss_3: 0.0110 - dense_3_loss_4: 0.0221 - dense_3_loss_5: 0.0013 - dense_3_loss_6: 0.0293 - dense_3_loss_7: 0.0849 - dense_3_loss_8: 0.0019 - dense_3_loss_9: 0.0377 - dense_3_loss_10: 0.0215 - dense_3_acc_1: 1.0000 - dense_3_acc_2: 1.0000 - dense_3_acc_3: 0.9992 - dense_3_acc_4: 1.0000 - dense_3_acc_5: 1.0000 - dense_3_acc_6: 0.9903 - dense_3_acc_7: 0.9788 - dense_3_acc_8: 1.0000 - dense_3_acc_9: 0.9950 - dense_3_acc_10: 0.9982    \n",
      "Epoch 23/50\n",
      "10000/10000 [==============================] - 51s - loss: 0.2016 - dense_3_loss_1: 0.0032 - dense_3_loss_2: 0.0023 - dense_3_loss_3: 0.0101 - dense_3_loss_4: 0.0206 - dense_3_loss_5: 0.0012 - dense_3_loss_6: 0.0281 - dense_3_loss_7: 0.0794 - dense_3_loss_8: 0.0019 - dense_3_loss_9: 0.0350 - dense_3_loss_10: 0.0197 - dense_3_acc_1: 1.0000 - dense_3_acc_2: 1.0000 - dense_3_acc_3: 0.9992 - dense_3_acc_4: 1.0000 - dense_3_acc_5: 1.0000 - dense_3_acc_6: 0.9906 - dense_3_acc_7: 0.9823 - dense_3_acc_8: 0.9999 - dense_3_acc_9: 0.9946 - dense_3_acc_10: 0.9986    \n",
      "Epoch 24/50\n",
      "10000/10000 [==============================] - 52s - loss: 0.1882 - dense_3_loss_1: 0.0030 - dense_3_loss_2: 0.0022 - dense_3_loss_3: 0.0093 - dense_3_loss_4: 0.0191 - dense_3_loss_5: 0.0012 - dense_3_loss_6: 0.0274 - dense_3_loss_7: 0.0741 - dense_3_loss_8: 0.0017 - dense_3_loss_9: 0.0323 - dense_3_loss_10: 0.0182 - dense_3_acc_1: 1.0000 - dense_3_acc_2: 1.0000 - dense_3_acc_3: 0.9992 - dense_3_acc_4: 1.0000 - dense_3_acc_5: 1.0000 - dense_3_acc_6: 0.9911 - dense_3_acc_7: 0.9837 - dense_3_acc_8: 1.0000 - dense_3_acc_9: 0.9956 - dense_3_acc_10: 0.9985    \n",
      "Epoch 25/50\n",
      "10000/10000 [==============================] - 56s - loss: 0.1748 - dense_3_loss_1: 0.0027 - dense_3_loss_2: 0.0020 - dense_3_loss_3: 0.0087 - dense_3_loss_4: 0.0177 - dense_3_loss_5: 0.0011 - dense_3_loss_6: 0.0263 - dense_3_loss_7: 0.0685 - dense_3_loss_8: 0.0017 - dense_3_loss_9: 0.0292 - dense_3_loss_10: 0.0169 - dense_3_acc_1: 1.0000 - dense_3_acc_2: 1.0000 - dense_3_acc_3: 0.9993 - dense_3_acc_4: 1.0000 - dense_3_acc_5: 1.0000 - dense_3_acc_6: 0.9914 - dense_3_acc_7: 0.9863 - dense_3_acc_8: 1.0000 - dense_3_acc_9: 0.9961 - dense_3_acc_10: 0.9988    \n",
      "Epoch 26/50\n",
      "10000/10000 [==============================] - 58s - loss: 0.1652 - dense_3_loss_1: 0.0026 - dense_3_loss_2: 0.0019 - dense_3_loss_3: 0.0081 - dense_3_loss_4: 0.0168 - dense_3_loss_5: 0.0010 - dense_3_loss_6: 0.0255 - dense_3_loss_7: 0.0646 - dense_3_loss_8: 0.0016 - dense_3_loss_9: 0.0273 - dense_3_loss_10: 0.0157 - dense_3_acc_1: 1.0000 - dense_3_acc_2: 1.0000 - dense_3_acc_3: 0.9994 - dense_3_acc_4: 1.0000 - dense_3_acc_5: 1.0000 - dense_3_acc_6: 0.9919 - dense_3_acc_7: 0.9865 - dense_3_acc_8: 1.0000 - dense_3_acc_9: 0.9968 - dense_3_acc_10: 0.9989    \n",
      "Epoch 27/50\n",
      "10000/10000 [==============================] - 74s - loss: 0.1540 - dense_3_loss_1: 0.0025 - dense_3_loss_2: 0.0018 - dense_3_loss_3: 0.0075 - dense_3_loss_4: 0.0156 - dense_3_loss_5: 9.9184e-04 - dense_3_loss_6: 0.0247 - dense_3_loss_7: 0.0591 - dense_3_loss_8: 0.0015 - dense_3_loss_9: 0.0255 - dense_3_loss_10: 0.0149 - dense_3_acc_1: 1.0000 - dense_3_acc_2: 1.0000 - dense_3_acc_3: 0.9997 - dense_3_acc_4: 1.0000 - dense_3_acc_5: 1.0000 - dense_3_acc_6: 0.9917 - dense_3_acc_7: 0.9885 - dense_3_acc_8: 1.0000 - dense_3_acc_9: 0.9970 - dense_3_acc_10: 0.9993    \n",
      "Epoch 28/50\n",
      "10000/10000 [==============================] - 57s - loss: 0.1450 - dense_3_loss_1: 0.0023 - dense_3_loss_2: 0.0017 - dense_3_loss_3: 0.0070 - dense_3_loss_4: 0.0149 - dense_3_loss_5: 9.4367e-04 - dense_3_loss_6: 0.0240 - dense_3_loss_7: 0.0552 - dense_3_loss_8: 0.0015 - dense_3_loss_9: 0.0239 - dense_3_loss_10: 0.0135 - dense_3_acc_1: 1.0000 - dense_3_acc_2: 1.0000 - dense_3_acc_3: 0.9998 - dense_3_acc_4: 1.0000 - dense_3_acc_5: 1.0000 - dense_3_acc_6: 0.9924 - dense_3_acc_7: 0.9899 - dense_3_acc_8: 1.0000 - dense_3_acc_9: 0.9971 - dense_3_acc_10: 0.9996    \n",
      "Epoch 29/50\n"
     ]
    },
    {
     "name": "stdout",
     "output_type": "stream",
     "text": [
      "10000/10000 [==============================] - 53s - loss: 0.1353 - dense_3_loss_1: 0.0022 - dense_3_loss_2: 0.0017 - dense_3_loss_3: 0.0065 - dense_3_loss_4: 0.0139 - dense_3_loss_5: 8.9120e-04 - dense_3_loss_6: 0.0229 - dense_3_loss_7: 0.0514 - dense_3_loss_8: 0.0014 - dense_3_loss_9: 0.0219 - dense_3_loss_10: 0.0126 - dense_3_acc_1: 1.0000 - dense_3_acc_2: 1.0000 - dense_3_acc_3: 0.9998 - dense_3_acc_4: 1.0000 - dense_3_acc_5: 1.0000 - dense_3_acc_6: 0.9922 - dense_3_acc_7: 0.9915 - dense_3_acc_8: 1.0000 - dense_3_acc_9: 0.9975 - dense_3_acc_10: 0.9996    \n",
      "Epoch 30/50\n",
      "10000/10000 [==============================] - 52s - loss: 0.1283 - dense_3_loss_1: 0.0021 - dense_3_loss_2: 0.0016 - dense_3_loss_3: 0.0061 - dense_3_loss_4: 0.0132 - dense_3_loss_5: 8.4746e-04 - dense_3_loss_6: 0.0224 - dense_3_loss_7: 0.0480 - dense_3_loss_8: 0.0013 - dense_3_loss_9: 0.0210 - dense_3_loss_10: 0.0118 - dense_3_acc_1: 1.0000 - dense_3_acc_2: 1.0000 - dense_3_acc_3: 0.9998 - dense_3_acc_4: 1.0000 - dense_3_acc_5: 1.0000 - dense_3_acc_6: 0.9931 - dense_3_acc_7: 0.9923 - dense_3_acc_8: 1.0000 - dense_3_acc_9: 0.9978 - dense_3_acc_10: 0.9996    \n",
      "Epoch 31/50\n",
      "10000/10000 [==============================] - 58s - loss: 0.1203 - dense_3_loss_1: 0.0020 - dense_3_loss_2: 0.0015 - dense_3_loss_3: 0.0058 - dense_3_loss_4: 0.0125 - dense_3_loss_5: 8.1065e-04 - dense_3_loss_6: 0.0216 - dense_3_loss_7: 0.0445 - dense_3_loss_8: 0.0013 - dense_3_loss_9: 0.0192 - dense_3_loss_10: 0.0111 - dense_3_acc_1: 1.0000 - dense_3_acc_2: 1.0000 - dense_3_acc_3: 0.9998 - dense_3_acc_4: 1.0000 - dense_3_acc_5: 1.0000 - dense_3_acc_6: 0.9931 - dense_3_acc_7: 0.9933 - dense_3_acc_8: 1.0000 - dense_3_acc_9: 0.9983 - dense_3_acc_10: 0.9995    \n",
      "Epoch 32/50\n",
      "10000/10000 [==============================] - 57s - loss: 0.1144 - dense_3_loss_1: 0.0019 - dense_3_loss_2: 0.0015 - dense_3_loss_3: 0.0054 - dense_3_loss_4: 0.0119 - dense_3_loss_5: 7.8911e-04 - dense_3_loss_6: 0.0209 - dense_3_loss_7: 0.0417 - dense_3_loss_8: 0.0012 - dense_3_loss_9: 0.0184 - dense_3_loss_10: 0.0107 - dense_3_acc_1: 1.0000 - dense_3_acc_2: 1.0000 - dense_3_acc_3: 0.9998 - dense_3_acc_4: 1.0000 - dense_3_acc_5: 1.0000 - dense_3_acc_6: 0.9936 - dense_3_acc_7: 0.9935 - dense_3_acc_8: 1.0000 - dense_3_acc_9: 0.9980 - dense_3_acc_10: 0.9997    \n",
      "Epoch 33/50\n",
      "10000/10000 [==============================] - 50s - loss: 0.1081 - dense_3_loss_1: 0.0019 - dense_3_loss_2: 0.0014 - dense_3_loss_3: 0.0051 - dense_3_loss_4: 0.0115 - dense_3_loss_5: 7.2078e-04 - dense_3_loss_6: 0.0203 - dense_3_loss_7: 0.0391 - dense_3_loss_8: 0.0012 - dense_3_loss_9: 0.0172 - dense_3_loss_10: 0.0099 - dense_3_acc_1: 1.0000 - dense_3_acc_2: 1.0000 - dense_3_acc_3: 0.9999 - dense_3_acc_4: 1.0000 - dense_3_acc_5: 1.0000 - dense_3_acc_6: 0.9940 - dense_3_acc_7: 0.9940 - dense_3_acc_8: 1.0000 - dense_3_acc_9: 0.9983 - dense_3_acc_10: 0.9997    \n",
      "Epoch 34/50\n",
      "10000/10000 [==============================] - 45s - loss: 0.1019 - dense_3_loss_1: 0.0018 - dense_3_loss_2: 0.0014 - dense_3_loss_3: 0.0049 - dense_3_loss_4: 0.0107 - dense_3_loss_5: 7.2743e-04 - dense_3_loss_6: 0.0196 - dense_3_loss_7: 0.0365 - dense_3_loss_8: 0.0011 - dense_3_loss_9: 0.0159 - dense_3_loss_10: 0.0093 - dense_3_acc_1: 1.0000 - dense_3_acc_2: 1.0000 - dense_3_acc_3: 0.9999 - dense_3_acc_4: 1.0000 - dense_3_acc_5: 1.0000 - dense_3_acc_6: 0.9943 - dense_3_acc_7: 0.9945 - dense_3_acc_8: 1.0000 - dense_3_acc_9: 0.9989 - dense_3_acc_10: 0.9997    \n",
      "Epoch 35/50\n",
      "10000/10000 [==============================] - 47s - loss: 0.0967 - dense_3_loss_1: 0.0017 - dense_3_loss_2: 0.0013 - dense_3_loss_3: 0.0046 - dense_3_loss_4: 0.0102 - dense_3_loss_5: 6.8427e-04 - dense_3_loss_6: 0.0190 - dense_3_loss_7: 0.0342 - dense_3_loss_8: 0.0011 - dense_3_loss_9: 0.0152 - dense_3_loss_10: 0.0087 - dense_3_acc_1: 1.0000 - dense_3_acc_2: 1.0000 - dense_3_acc_3: 0.9999 - dense_3_acc_4: 1.0000 - dense_3_acc_5: 1.0000 - dense_3_acc_6: 0.9944 - dense_3_acc_7: 0.9954 - dense_3_acc_8: 1.0000 - dense_3_acc_9: 0.9992 - dense_3_acc_10: 1.0000    \n",
      "Epoch 36/50\n",
      "10000/10000 [==============================] - 44s - loss: 0.0921 - dense_3_loss_1: 0.0016 - dense_3_loss_2: 0.0012 - dense_3_loss_3: 0.0043 - dense_3_loss_4: 0.0098 - dense_3_loss_5: 6.5715e-04 - dense_3_loss_6: 0.0183 - dense_3_loss_7: 0.0325 - dense_3_loss_8: 0.0010 - dense_3_loss_9: 0.0144 - dense_3_loss_10: 0.0083 - dense_3_acc_1: 1.0000 - dense_3_acc_2: 1.0000 - dense_3_acc_3: 0.9999 - dense_3_acc_4: 1.0000 - dense_3_acc_5: 1.0000 - dense_3_acc_6: 0.9948 - dense_3_acc_7: 0.9957 - dense_3_acc_8: 1.0000 - dense_3_acc_9: 0.9991 - dense_3_acc_10: 0.9998    \n",
      "Epoch 37/50\n",
      "10000/10000 [==============================] - 43s - loss: 0.0876 - dense_3_loss_1: 0.0015 - dense_3_loss_2: 0.0012 - dense_3_loss_3: 0.0042 - dense_3_loss_4: 0.0093 - dense_3_loss_5: 6.3939e-04 - dense_3_loss_6: 0.0178 - dense_3_loss_7: 0.0305 - dense_3_loss_8: 0.0010 - dense_3_loss_9: 0.0136 - dense_3_loss_10: 0.0079 - dense_3_acc_1: 1.0000 - dense_3_acc_2: 1.0000 - dense_3_acc_3: 0.9999 - dense_3_acc_4: 1.0000 - dense_3_acc_5: 1.0000 - dense_3_acc_6: 0.9949 - dense_3_acc_7: 0.9958 - dense_3_acc_8: 1.0000 - dense_3_acc_9: 0.9993 - dense_3_acc_10: 0.9999    \n",
      "Epoch 38/50\n",
      "10000/10000 [==============================] - 47s - loss: 0.0827 - dense_3_loss_1: 0.0015 - dense_3_loss_2: 0.0012 - dense_3_loss_3: 0.0039 - dense_3_loss_4: 0.0089 - dense_3_loss_5: 5.9863e-04 - dense_3_loss_6: 0.0171 - dense_3_loss_7: 0.0282 - dense_3_loss_8: 9.5295e-04 - dense_3_loss_9: 0.0127 - dense_3_loss_10: 0.0076 - dense_3_acc_1: 1.0000 - dense_3_acc_2: 1.0000 - dense_3_acc_3: 0.9999 - dense_3_acc_4: 1.0000 - dense_3_acc_5: 1.0000 - dense_3_acc_6: 0.9953 - dense_3_acc_7: 0.9968 - dense_3_acc_8: 1.0000 - dense_3_acc_9: 0.9994 - dense_3_acc_10: 0.9998    \n",
      "Epoch 39/50\n",
      "10000/10000 [==============================] - 42s - loss: 0.0790 - dense_3_loss_1: 0.0014 - dense_3_loss_2: 0.0011 - dense_3_loss_3: 0.0038 - dense_3_loss_4: 0.0085 - dense_3_loss_5: 5.8913e-04 - dense_3_loss_6: 0.0167 - dense_3_loss_7: 0.0268 - dense_3_loss_8: 9.4588e-04 - dense_3_loss_9: 0.0120 - dense_3_loss_10: 0.0071 - dense_3_acc_1: 1.0000 - dense_3_acc_2: 1.0000 - dense_3_acc_3: 0.9999 - dense_3_acc_4: 1.0000 - dense_3_acc_5: 1.0000 - dense_3_acc_6: 0.9955 - dense_3_acc_7: 0.9972 - dense_3_acc_8: 1.0000 - dense_3_acc_9: 0.9995 - dense_3_acc_10: 0.9999    \n",
      "Epoch 40/50\n",
      "10000/10000 [==============================] - 42s - loss: 0.0755 - dense_3_loss_1: 0.0013 - dense_3_loss_2: 0.0011 - dense_3_loss_3: 0.0036 - dense_3_loss_4: 0.0081 - dense_3_loss_5: 5.6889e-04 - dense_3_loss_6: 0.0160 - dense_3_loss_7: 0.0254 - dense_3_loss_8: 8.9826e-04 - dense_3_loss_9: 0.0116 - dense_3_loss_10: 0.0069 - dense_3_acc_1: 1.0000 - dense_3_acc_2: 1.0000 - dense_3_acc_3: 0.9999 - dense_3_acc_4: 1.0000 - dense_3_acc_5: 1.0000 - dense_3_acc_6: 0.9953 - dense_3_acc_7: 0.9979 - dense_3_acc_8: 1.0000 - dense_3_acc_9: 0.9996 - dense_3_acc_10: 0.9999    \n",
      "Epoch 41/50\n",
      "10000/10000 [==============================] - 47s - loss: 0.0721 - dense_3_loss_1: 0.0013 - dense_3_loss_2: 0.0011 - dense_3_loss_3: 0.0034 - dense_3_loss_4: 0.0078 - dense_3_loss_5: 5.4912e-04 - dense_3_loss_6: 0.0158 - dense_3_loss_7: 0.0239 - dense_3_loss_8: 8.8240e-04 - dense_3_loss_9: 0.0109 - dense_3_loss_10: 0.0065 - dense_3_acc_1: 1.0000 - dense_3_acc_2: 1.0000 - dense_3_acc_3: 0.9999 - dense_3_acc_4: 1.0000 - dense_3_acc_5: 1.0000 - dense_3_acc_6: 0.9954 - dense_3_acc_7: 0.9981 - dense_3_acc_8: 1.0000 - dense_3_acc_9: 0.9997 - dense_3_acc_10: 1.0000    \n",
      "Epoch 42/50\n",
      "10000/10000 [==============================] - 41s - loss: 0.0693 - dense_3_loss_1: 0.0013 - dense_3_loss_2: 0.0010 - dense_3_loss_3: 0.0034 - dense_3_loss_4: 0.0076 - dense_3_loss_5: 5.2785e-04 - dense_3_loss_6: 0.0152 - dense_3_loss_7: 0.0229 - dense_3_loss_8: 8.5553e-04 - dense_3_loss_9: 0.0104 - dense_3_loss_10: 0.0062 - dense_3_acc_1: 1.0000 - dense_3_acc_2: 1.0000 - dense_3_acc_3: 0.9999 - dense_3_acc_4: 1.0000 - dense_3_acc_5: 1.0000 - dense_3_acc_6: 0.9959 - dense_3_acc_7: 0.9980 - dense_3_acc_8: 1.0000 - dense_3_acc_9: 0.9996 - dense_3_acc_10: 1.0000    \n",
      "Epoch 43/50\n"
     ]
    },
    {
     "name": "stdout",
     "output_type": "stream",
     "text": [
      "10000/10000 [==============================] - 47s - loss: 0.0658 - dense_3_loss_1: 0.0012 - dense_3_loss_2: 9.9118e-04 - dense_3_loss_3: 0.0031 - dense_3_loss_4: 0.0072 - dense_3_loss_5: 5.0867e-04 - dense_3_loss_6: 0.0146 - dense_3_loss_7: 0.0216 - dense_3_loss_8: 8.2568e-04 - dense_3_loss_9: 0.0099 - dense_3_loss_10: 0.0059 - dense_3_acc_1: 1.0000 - dense_3_acc_2: 1.0000 - dense_3_acc_3: 0.9999 - dense_3_acc_4: 1.0000 - dense_3_acc_5: 1.0000 - dense_3_acc_6: 0.9966 - dense_3_acc_7: 0.9980 - dense_3_acc_8: 1.0000 - dense_3_acc_9: 0.9999 - dense_3_acc_10: 1.0000    \n",
      "Epoch 44/50\n",
      "10000/10000 [==============================] - 43s - loss: 0.0633 - dense_3_loss_1: 0.0012 - dense_3_loss_2: 9.6539e-04 - dense_3_loss_3: 0.0030 - dense_3_loss_4: 0.0069 - dense_3_loss_5: 4.9148e-04 - dense_3_loss_6: 0.0144 - dense_3_loss_7: 0.0204 - dense_3_loss_8: 7.8744e-04 - dense_3_loss_9: 0.0094 - dense_3_loss_10: 0.0057 - dense_3_acc_1: 1.0000 - dense_3_acc_2: 1.0000 - dense_3_acc_3: 0.9999 - dense_3_acc_4: 1.0000 - dense_3_acc_5: 1.0000 - dense_3_acc_6: 0.9961 - dense_3_acc_7: 0.9989 - dense_3_acc_8: 1.0000 - dense_3_acc_9: 0.9999 - dense_3_acc_10: 1.0000    \n",
      "Epoch 45/50\n",
      "10000/10000 [==============================] - 39s - loss: 0.0603 - dense_3_loss_1: 0.0011 - dense_3_loss_2: 9.2968e-04 - dense_3_loss_3: 0.0029 - dense_3_loss_4: 0.0067 - dense_3_loss_5: 4.6780e-04 - dense_3_loss_6: 0.0137 - dense_3_loss_7: 0.0193 - dense_3_loss_8: 7.6361e-04 - dense_3_loss_9: 0.0089 - dense_3_loss_10: 0.0054 - dense_3_acc_1: 1.0000 - dense_3_acc_2: 1.0000 - dense_3_acc_3: 0.9999 - dense_3_acc_4: 1.0000 - dense_3_acc_5: 1.0000 - dense_3_acc_6: 0.9965 - dense_3_acc_7: 0.9987 - dense_3_acc_8: 1.0000 - dense_3_acc_9: 0.9999 - dense_3_acc_10: 1.0000    \n",
      "Epoch 46/50\n",
      "10000/10000 [==============================] - 41s - loss: 0.0577 - dense_3_loss_1: 0.0011 - dense_3_loss_2: 9.1413e-04 - dense_3_loss_3: 0.0028 - dense_3_loss_4: 0.0064 - dense_3_loss_5: 4.5431e-04 - dense_3_loss_6: 0.0133 - dense_3_loss_7: 0.0184 - dense_3_loss_8: 7.3609e-04 - dense_3_loss_9: 0.0085 - dense_3_loss_10: 0.0051 - dense_3_acc_1: 1.0000 - dense_3_acc_2: 1.0000 - dense_3_acc_3: 0.9999 - dense_3_acc_4: 1.0000 - dense_3_acc_5: 1.0000 - dense_3_acc_6: 0.9965 - dense_3_acc_7: 0.9991 - dense_3_acc_8: 1.0000 - dense_3_acc_9: 0.9999 - dense_3_acc_10: 1.0000    \n",
      "Epoch 47/50\n",
      "10000/10000 [==============================] - 44s - loss: 0.0554 - dense_3_loss_1: 0.0011 - dense_3_loss_2: 8.7566e-04 - dense_3_loss_3: 0.0027 - dense_3_loss_4: 0.0062 - dense_3_loss_5: 4.4396e-04 - dense_3_loss_6: 0.0129 - dense_3_loss_7: 0.0175 - dense_3_loss_8: 7.1749e-04 - dense_3_loss_9: 0.0081 - dense_3_loss_10: 0.0049 - dense_3_acc_1: 1.0000 - dense_3_acc_2: 1.0000 - dense_3_acc_3: 0.9999 - dense_3_acc_4: 1.0000 - dense_3_acc_5: 1.0000 - dense_3_acc_6: 0.9968 - dense_3_acc_7: 0.9993 - dense_3_acc_8: 1.0000 - dense_3_acc_9: 0.9999 - dense_3_acc_10: 1.0000    \n",
      "Epoch 48/50\n",
      "10000/10000 [==============================] - 40s - loss: 0.0529 - dense_3_loss_1: 0.0010 - dense_3_loss_2: 8.5295e-04 - dense_3_loss_3: 0.0026 - dense_3_loss_4: 0.0059 - dense_3_loss_5: 4.3260e-04 - dense_3_loss_6: 0.0122 - dense_3_loss_7: 0.0168 - dense_3_loss_8: 6.8280e-04 - dense_3_loss_9: 0.0077 - dense_3_loss_10: 0.0047 - dense_3_acc_1: 1.0000 - dense_3_acc_2: 1.0000 - dense_3_acc_3: 1.0000 - dense_3_acc_4: 1.0000 - dense_3_acc_5: 1.0000 - dense_3_acc_6: 0.9969 - dense_3_acc_7: 0.9993 - dense_3_acc_8: 1.0000 - dense_3_acc_9: 0.9999 - dense_3_acc_10: 1.0000    \n",
      "Epoch 49/50\n",
      "10000/10000 [==============================] - 40s - loss: 0.0511 - dense_3_loss_1: 9.7496e-04 - dense_3_loss_2: 8.3615e-04 - dense_3_loss_3: 0.0025 - dense_3_loss_4: 0.0058 - dense_3_loss_5: 4.1449e-04 - dense_3_loss_6: 0.0120 - dense_3_loss_7: 0.0159 - dense_3_loss_8: 6.5649e-04 - dense_3_loss_9: 0.0075 - dense_3_loss_10: 0.0046 - dense_3_acc_1: 1.0000 - dense_3_acc_2: 1.0000 - dense_3_acc_3: 0.9999 - dense_3_acc_4: 1.0000 - dense_3_acc_5: 1.0000 - dense_3_acc_6: 0.9971 - dense_3_acc_7: 0.9995 - dense_3_acc_8: 1.0000 - dense_3_acc_9: 0.9998 - dense_3_acc_10: 1.0000    \n",
      "Epoch 50/50\n",
      "10000/10000 [==============================] - 39s - loss: 0.0491 - dense_3_loss_1: 9.4553e-04 - dense_3_loss_2: 8.1052e-04 - dense_3_loss_3: 0.0024 - dense_3_loss_4: 0.0056 - dense_3_loss_5: 4.0337e-04 - dense_3_loss_6: 0.0118 - dense_3_loss_7: 0.0152 - dense_3_loss_8: 6.3398e-04 - dense_3_loss_9: 0.0070 - dense_3_loss_10: 0.0044 - dense_3_acc_1: 1.0000 - dense_3_acc_2: 1.0000 - dense_3_acc_3: 1.0000 - dense_3_acc_4: 1.0000 - dense_3_acc_5: 1.0000 - dense_3_acc_6: 0.9973 - dense_3_acc_7: 0.9993 - dense_3_acc_8: 1.0000 - dense_3_acc_9: 0.9999 - dense_3_acc_10: 1.0000    \n"
     ]
    },
    {
     "data": {
      "text/plain": [
       "<keras.callbacks.History at 0x7fbf0470c860>"
      ]
     },
     "execution_count": 14,
     "metadata": {},
     "output_type": "execute_result"
    }
   ],
   "source": [
    "model.fit([Xoh, s0, c0], outputs, epochs=50, batch_size=100)"
   ]
  },
  {
   "cell_type": "markdown",
   "metadata": {},
   "source": [
    "While training you can see the loss as well as the accuracy on each of the 10 positions of the output. The table below gives you an example of what the accuracies could be if the batch had 2 examples: \n",
    "\n",
    "<img src=\"images/table.png\" style=\"width:700;height:200px;\"> <br>\n",
    "<caption><center>Thus, `dense_2_acc_8: 0.89` means that you are predicting the 7th character of the output correctly 89% of the time in the current batch of data. </center></caption>\n",
    "\n",
    "\n",
    "We have run this model for longer, and saved the weights. Run the next cell to load our weights. (By training a model for several minutes, you should be able to obtain a model of similar accuracy, but loading our model will save you time.) "
   ]
  },
  {
   "cell_type": "code",
   "execution_count": 15,
   "metadata": {},
   "outputs": [],
   "source": [
    "#model.load_weights('models/model.h5')"
   ]
  },
  {
   "cell_type": "markdown",
   "metadata": {},
   "source": [
    "You can now see the results on new examples."
   ]
  },
  {
   "cell_type": "code",
   "execution_count": 16,
   "metadata": {},
   "outputs": [
    {
     "name": "stdout",
     "output_type": "stream",
     "text": [
      "source: 3 May 1979\n",
      "output: 1979-05-03\n",
      "source: 5 April 09\n",
      "output: 2009-04-05\n",
      "source: 21th of August 2016\n",
      "output: 2016-08-11\n",
      "source: Tue 10 Jul 2007\n",
      "output: 2007-07-10\n",
      "source: Saturday May 9 2018\n",
      "output: 2018-05-09\n",
      "source: March 3 2001\n",
      "output: 2001-03-03\n",
      "source: March 3rd 2001\n",
      "output: 2001-03-03\n",
      "source: 1 March 2001\n",
      "output: 2001-03-01\n"
     ]
    }
   ],
   "source": [
    "EXAMPLES = ['3 May 1979', '5 April 09', '21th of August 2016', 'Tue 10 Jul 2007', 'Saturday May 9 2018', 'March 3 2001', 'March 3rd 2001', '1 March 2001']\n",
    "for example in EXAMPLES:\n",
    "    \n",
    "    source = string_to_int(example, Tx, human_vocab)\n",
    "    source = np.array(list(map(lambda x: to_categorical(x, num_classes=len(human_vocab)), source))).swapaxes(0,1)\n",
    "    prediction = model.predict([source, s0, c0])\n",
    "    prediction = np.argmax(prediction, axis = -1)\n",
    "    output = [inv_machine_vocab[int(i)] for i in prediction]\n",
    "    \n",
    "    print(\"source:\", example)\n",
    "    print(\"output:\", ''.join(output))"
   ]
  },
  {
   "cell_type": "markdown",
   "metadata": {},
   "source": [
    "You can also change these examples to test with your own examples. The next part will give you a better sense on what the attention mechanism is doing--i.e., what part of the input the network is paying attention to when generating a particular output character. "
   ]
  },
  {
   "cell_type": "markdown",
   "metadata": {},
   "source": [
    "## 3 - Visualizing Attention (Optional / Ungraded)\n",
    "\n",
    "Since the problem has a fixed output length of 10, it is also possible to carry out this task using 10 different softmax units to generate the 10 characters of the output. But one advantage of the attention model is that each part of the output (say the month) knows it needs to depend only on a small part of the input (the characters in the input giving the month). We can  visualize what part of the output is looking at what part of the input.\n",
    "\n",
    "Consider the task of translating \"Saturday 9 May 2018\" to \"2018-05-09\". If we visualize the computed $\\alpha^{\\langle t, t' \\rangle}$ we get this: \n",
    "\n",
    "<img src=\"images/date_attention.png\" style=\"width:600;height:300px;\"> <br>\n",
    "<caption><center> **Figure 8**: Full Attention Map</center></caption>\n",
    "\n",
    "Notice how the output ignores the \"Saturday\" portion of the input. None of the output timesteps are paying much attention to that portion of the input. We see also that 9 has been translated as 09 and May has been correctly translated into 05, with the output paying attention to the parts of the input it needs to to make the translation. The year mostly requires it to pay attention to the input's \"18\" in order to generate \"2018.\" \n",
    "\n"
   ]
  },
  {
   "cell_type": "markdown",
   "metadata": {},
   "source": [
    "### 3.1 - Getting the activations from the network\n",
    "\n",
    "Lets now visualize the attention values in your network. We'll propagate an example through the network, then visualize the values of $\\alpha^{\\langle t, t' \\rangle}$. \n",
    "\n",
    "To figure out where the attention values are located, let's start by printing a summary of the model ."
   ]
  },
  {
   "cell_type": "code",
   "execution_count": 17,
   "metadata": {},
   "outputs": [
    {
     "name": "stdout",
     "output_type": "stream",
     "text": [
      "____________________________________________________________________________________________________\n",
      "Layer (type)                     Output Shape          Param #     Connected to                     \n",
      "====================================================================================================\n",
      "s0 (InputLayer)                  (None, 64)            0                                            \n",
      "____________________________________________________________________________________________________\n",
      "input_1 (InputLayer)             (None, 30, 37)        0                                            \n",
      "____________________________________________________________________________________________________\n",
      "repeat_vector_1 (RepeatVector)   (None, 30, 64)        0           s0[0][0]                         \n",
      "                                                                   lstm_1[0][0]                     \n",
      "                                                                   lstm_1[1][0]                     \n",
      "                                                                   lstm_1[2][0]                     \n",
      "                                                                   lstm_1[3][0]                     \n",
      "                                                                   lstm_1[4][0]                     \n",
      "                                                                   lstm_1[5][0]                     \n",
      "                                                                   lstm_1[6][0]                     \n",
      "                                                                   lstm_1[7][0]                     \n",
      "                                                                   lstm_1[8][0]                     \n",
      "____________________________________________________________________________________________________\n",
      "bidirectional_1 (Bidirectional)  (None, 30, 64)        17920       input_1[0][0]                    \n",
      "____________________________________________________________________________________________________\n",
      "concatenate_1 (Concatenate)      (None, 30, 128)       0           repeat_vector_1[0][0]            \n",
      "                                                                   bidirectional_1[0][0]            \n",
      "                                                                   repeat_vector_1[1][0]            \n",
      "                                                                   bidirectional_1[0][0]            \n",
      "                                                                   repeat_vector_1[2][0]            \n",
      "                                                                   bidirectional_1[0][0]            \n",
      "                                                                   repeat_vector_1[3][0]            \n",
      "                                                                   bidirectional_1[0][0]            \n",
      "                                                                   repeat_vector_1[4][0]            \n",
      "                                                                   bidirectional_1[0][0]            \n",
      "                                                                   repeat_vector_1[5][0]            \n",
      "                                                                   bidirectional_1[0][0]            \n",
      "                                                                   repeat_vector_1[6][0]            \n",
      "                                                                   bidirectional_1[0][0]            \n",
      "                                                                   repeat_vector_1[7][0]            \n",
      "                                                                   bidirectional_1[0][0]            \n",
      "                                                                   repeat_vector_1[8][0]            \n",
      "                                                                   bidirectional_1[0][0]            \n",
      "                                                                   repeat_vector_1[9][0]            \n",
      "                                                                   bidirectional_1[0][0]            \n",
      "____________________________________________________________________________________________________\n",
      "dense_1 (Dense)                  (None, 30, 10)        1290        concatenate_1[0][0]              \n",
      "                                                                   concatenate_1[1][0]              \n",
      "                                                                   concatenate_1[2][0]              \n",
      "                                                                   concatenate_1[3][0]              \n",
      "                                                                   concatenate_1[4][0]              \n",
      "                                                                   concatenate_1[5][0]              \n",
      "                                                                   concatenate_1[6][0]              \n",
      "                                                                   concatenate_1[7][0]              \n",
      "                                                                   concatenate_1[8][0]              \n",
      "                                                                   concatenate_1[9][0]              \n",
      "____________________________________________________________________________________________________\n",
      "dense_2 (Dense)                  (None, 30, 1)         11          dense_1[0][0]                    \n",
      "                                                                   dense_1[1][0]                    \n",
      "                                                                   dense_1[2][0]                    \n",
      "                                                                   dense_1[3][0]                    \n",
      "                                                                   dense_1[4][0]                    \n",
      "                                                                   dense_1[5][0]                    \n",
      "                                                                   dense_1[6][0]                    \n",
      "                                                                   dense_1[7][0]                    \n",
      "                                                                   dense_1[8][0]                    \n",
      "                                                                   dense_1[9][0]                    \n",
      "____________________________________________________________________________________________________\n",
      "attention_weights (Activation)   (None, 30, 1)         0           dense_2[0][0]                    \n",
      "                                                                   dense_2[1][0]                    \n",
      "                                                                   dense_2[2][0]                    \n",
      "                                                                   dense_2[3][0]                    \n",
      "                                                                   dense_2[4][0]                    \n",
      "                                                                   dense_2[5][0]                    \n",
      "                                                                   dense_2[6][0]                    \n",
      "                                                                   dense_2[7][0]                    \n",
      "                                                                   dense_2[8][0]                    \n",
      "                                                                   dense_2[9][0]                    \n",
      "____________________________________________________________________________________________________\n",
      "dot_1 (Dot)                      (None, 1, 64)         0           attention_weights[0][0]          \n",
      "                                                                   bidirectional_1[0][0]            \n",
      "                                                                   attention_weights[1][0]          \n",
      "                                                                   bidirectional_1[0][0]            \n",
      "                                                                   attention_weights[2][0]          \n",
      "                                                                   bidirectional_1[0][0]            \n",
      "                                                                   attention_weights[3][0]          \n",
      "                                                                   bidirectional_1[0][0]            \n",
      "                                                                   attention_weights[4][0]          \n",
      "                                                                   bidirectional_1[0][0]            \n",
      "                                                                   attention_weights[5][0]          \n",
      "                                                                   bidirectional_1[0][0]            \n",
      "                                                                   attention_weights[6][0]          \n",
      "                                                                   bidirectional_1[0][0]            \n",
      "                                                                   attention_weights[7][0]          \n",
      "                                                                   bidirectional_1[0][0]            \n",
      "                                                                   attention_weights[8][0]          \n",
      "                                                                   bidirectional_1[0][0]            \n",
      "                                                                   attention_weights[9][0]          \n",
      "                                                                   bidirectional_1[0][0]            \n",
      "____________________________________________________________________________________________________\n",
      "c0 (InputLayer)                  (None, 64)            0                                            \n",
      "____________________________________________________________________________________________________\n",
      "lstm_1 (LSTM)                    [(None, 64), (None, 6 33024       dot_1[0][0]                      \n",
      "                                                                   s0[0][0]                         \n",
      "                                                                   c0[0][0]                         \n",
      "                                                                   dot_1[1][0]                      \n",
      "                                                                   lstm_1[0][0]                     \n",
      "                                                                   lstm_1[0][2]                     \n",
      "                                                                   dot_1[2][0]                      \n",
      "                                                                   lstm_1[1][0]                     \n",
      "                                                                   lstm_1[1][2]                     \n",
      "                                                                   dot_1[3][0]                      \n",
      "                                                                   lstm_1[2][0]                     \n",
      "                                                                   lstm_1[2][2]                     \n",
      "                                                                   dot_1[4][0]                      \n",
      "                                                                   lstm_1[3][0]                     \n",
      "                                                                   lstm_1[3][2]                     \n",
      "                                                                   dot_1[5][0]                      \n",
      "                                                                   lstm_1[4][0]                     \n",
      "                                                                   lstm_1[4][2]                     \n",
      "                                                                   dot_1[6][0]                      \n",
      "                                                                   lstm_1[5][0]                     \n",
      "                                                                   lstm_1[5][2]                     \n",
      "                                                                   dot_1[7][0]                      \n",
      "                                                                   lstm_1[6][0]                     \n",
      "                                                                   lstm_1[6][2]                     \n",
      "                                                                   dot_1[8][0]                      \n",
      "                                                                   lstm_1[7][0]                     \n",
      "                                                                   lstm_1[7][2]                     \n",
      "                                                                   dot_1[9][0]                      \n",
      "                                                                   lstm_1[8][0]                     \n",
      "                                                                   lstm_1[8][2]                     \n",
      "____________________________________________________________________________________________________\n",
      "dense_3 (Dense)                  (None, 11)            715         lstm_1[0][0]                     \n",
      "                                                                   lstm_1[1][0]                     \n",
      "                                                                   lstm_1[2][0]                     \n",
      "                                                                   lstm_1[3][0]                     \n",
      "                                                                   lstm_1[4][0]                     \n",
      "                                                                   lstm_1[5][0]                     \n",
      "                                                                   lstm_1[6][0]                     \n",
      "                                                                   lstm_1[7][0]                     \n",
      "                                                                   lstm_1[8][0]                     \n",
      "                                                                   lstm_1[9][0]                     \n",
      "====================================================================================================\n",
      "Total params: 52,960\n",
      "Trainable params: 52,960\n",
      "Non-trainable params: 0\n",
      "____________________________________________________________________________________________________\n"
     ]
    }
   ],
   "source": [
    "model.summary()"
   ]
  },
  {
   "cell_type": "markdown",
   "metadata": {},
   "source": [
    "Navigate through the output of `model.summary()` above. You can see that the layer named `attention_weights` outputs the `alphas` of shape (m, 30, 1) before `dot_2` computes the context vector for every time step $t = 0, \\ldots, T_y-1$. Lets get the activations from this layer.\n",
    "\n",
    "The function `attention_map()` pulls out the attention values from your model and plots them."
   ]
  },
  {
   "cell_type": "code",
   "execution_count": 18,
   "metadata": {
    "scrolled": false
   },
   "outputs": [
    {
     "data": {
      "text/plain": [
       "<matplotlib.figure.Figure at 0x7fbf046f3f28>"
      ]
     },
     "metadata": {},
     "output_type": "display_data"
    },
    {
     "data": {
      "image/png": "[encoded data removed]",
      "text/plain": [
       "<matplotlib.figure.Figure at 0x7fbef044dc18>"
      ]
     },
     "metadata": {},
     "output_type": "display_data"
    }
   ],
   "source": [
    "attention_map = plot_attention_map(model, human_vocab, inv_machine_vocab, \"Tuesday 09 Oct 1993\", num = 7, n_s = 64)"
   ]
  },
  {
   "cell_type": "markdown",
   "metadata": {},
   "source": [
    "On the generated plot you can observe the values of the attention weights for each character of the predicted output. Examine this plot and check that where the network is paying attention makes sense to you.\n",
    "\n",
    "In the date translation application, you will observe that most of the time attention helps predict the year, and hasn't much impact on predicting the day/month."
   ]
  },
  {
   "cell_type": "markdown",
   "metadata": {},
   "source": [
    "### Congratulations!\n",
    "\n",
    "\n",
    "You have come to the end of this assignment \n",
    "\n",
    "<font color='blue'> **Here's what you should remember from this notebook**:\n",
    "\n",
    "- Machine translation models can be used to map from one sequence to another. They are useful not just for translating human languages (like French->English) but also for tasks like date format translation. \n",
    "- An attention mechanism allows a network to focus on the most relevant parts of the input when producing a specific part of the output. \n",
    "- A network using an attention mechanism can translate from inputs of length $T_x$ to outputs of length $T_y$, where $T_x$ and $T_y$ can be different. \n",
    "- You can visualize attention weights $\\alpha^{\\langle t,t' \\rangle}$ to see what the network is paying attention to while generating each output."
   ]
  },
  {
   "cell_type": "markdown",
   "metadata": {},
   "source": [
    "Congratulations on finishing this assignment! You are now able to implement an attention model and use it to learn complex mappings from one sequence to another. "
   ]
  }
 ],
 "metadata": {
  "coursera": {
   "course_slug": "nlp-sequence-models",
   "graded_item_id": "n16CQ",
   "launcher_item_id": "npjGi"
  },
  "kernelspec": {
   "display_name": "Python 3",
   "language": "python",
   "name": "python3"
  },
  "language_info": {
   "codemirror_mode": {
    "name": "ipython",
    "version": 3
   },
   "file_extension": ".py",
   "mimetype": "text/x-python",
   "name": "python",
   "nbconvert_exporter": "python",
   "pygments_lexer": "ipython3",
   "version": "3.6.0"
  }
 },
 "nbformat": 4,
 "nbformat_minor": 2
}
